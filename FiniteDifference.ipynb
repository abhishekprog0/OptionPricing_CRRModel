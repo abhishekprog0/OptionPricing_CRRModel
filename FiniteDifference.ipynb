{
 "cells": [
  {
   "cell_type": "markdown",
   "metadata": {},
   "source": [
    "# Finite differences for American options"
   ]
  },
  {
   "cell_type": "code",
   "execution_count": 66,
   "metadata": {},
   "outputs": [],
   "source": [
    "import numpy as np\n",
    "import pylab\n",
    "import matplotlib.pyplot as plt\n",
    "plt.rc('figure', figsize=(9, 4), dpi=100)"
   ]
  },
  {
   "cell_type": "code",
   "execution_count": 67,
   "metadata": {},
   "outputs": [],
   "source": [
    "#Model Parameters\n",
    "\n",
    "K = 100\n",
    "S_max = 200\n",
    "T = 1.0\n",
    "sigma = 0.2\n",
    "r = 0.1\n",
    "M = 20\n",
    "N = 20\n",
    "h = S_max/(M+1.0)\n"
   ]
  },
  {
   "cell_type": "markdown",
   "metadata": {},
   "source": [
    "# Implicit Euler Scheme"
   ]
  },
  {
   "cell_type": "code",
   "execution_count": 68,
   "metadata": {},
   "outputs": [
    {
     "name": "stdout",
     "output_type": "stream",
     "text": [
      "[  0.           9.52380952  19.04761905  28.57142857  38.0952381\n",
      "  47.61904762  57.14285714  66.66666667  76.19047619  85.71428571\n",
      "  95.23809524 104.76190476 114.28571429 123.80952381 133.33333333\n",
      " 142.85714286 152.38095238 161.9047619  171.42857143 180.95238095\n",
      " 190.47619048 200.        ]\n"
     ]
    }
   ],
   "source": [
    "#xj matrix\n",
    "xj = np.zeros(M+2)\n",
    "for j in range(0, M+2):\n",
    "    xj[j] = j*h\n",
    "\n",
    "delta_t = T/float(N)\n",
    "t = np.zeros(N+1)\n",
    "\n",
    "for j in range(0,N+1):\n",
    "    t[j] = j*delta_t\n",
    "\n",
    "print (xj)"
   ]
  },
  {
   "cell_type": "code",
   "execution_count": 69,
   "metadata": {},
   "outputs": [
    {
     "name": "stdout",
     "output_type": "stream",
     "text": [
      "(22, 22)\n"
     ]
    }
   ],
   "source": [
    "#A matrix\n",
    "A = np.zeros((M+2,M+2))\n",
    "\n",
    "for i in range(M+2):\n",
    "    \n",
    "    if i > 0:\n",
    "        A[i][i-1] = - (sigma*sigma)*(xj[i]*xj[i])/float(2*(h*h))\n",
    "    \n",
    "    A[i][i] = (sigma*sigma)*(xj[i]*xj[i])/float(h*h)+ r* xj[i]/h +r\n",
    "    \n",
    "    if i < M+1:\n",
    "        A[i][i+1]=-(sigma*sigma)*(xj[i]*xj[i])/float(2*(h*h)) - r* xj[i]/h\n",
    "\n",
    "#print (\"A Matrix:\")\n",
    "#print (A)\n",
    "\n",
    "#Payoff\n",
    "g = np.zeros(M+2)\n",
    "for i in range(0, M+2):\n",
    "    g[i] = max(K-xj[i],0)\n",
    "\n",
    "print (A.shape)"
   ]
  },
  {
   "cell_type": "code",
   "execution_count": 70,
   "metadata": {},
   "outputs": [],
   "source": [
    "#P matrix\n",
    "P = np.zeros((M+2,N+1))\n",
    "for i in range(0, M+2):\n",
    "    P[i][0] = g[i]\n",
    "    \n",
    "for i in range(0, N):\n",
    "    temp = np.zeros(M+2)\n",
    "    temp1 = np.zeros(M+2)\n",
    "    \n",
    "    temp = P[:,i]-delta_t*np.matmul(A,P[:,i])\n",
    "    \n",
    "    for j in range(0, M+2):\n",
    "        temp1[j] = max(temp[j], g[j])\n",
    "        \n",
    "    P[:,i+1] = temp1\n",
    "    P[M+1,i+1] = 0"
   ]
  },
  {
   "cell_type": "code",
   "execution_count": 71,
   "metadata": {},
   "outputs": [
    {
     "data": {
      "image/png": "[encoded data removed]",
      "text/plain": [
       "<Figure size 900x400 with 1 Axes>"
      ]
     },
     "metadata": {},
     "output_type": "display_data"
    }
   ],
   "source": [
    "plt.title(\"Stability using Implicit Euler Scheme\")\n",
    "plt.plot(xj, P[:,N])\n",
    "plt.show()"
   ]
  },
  {
   "cell_type": "markdown",
   "metadata": {},
   "source": [
    "# Newton-Raphson algorithm"
   ]
  },
  {
   "cell_type": "code",
   "execution_count": 72,
   "metadata": {},
   "outputs": [],
   "source": [
    "B  = np.eye(M+2) + delta_t * A"
   ]
  },
  {
   "cell_type": "code",
   "execution_count": 73,
   "metadata": {},
   "outputs": [],
   "source": [
    "def func(x,B,b,g):\n",
    "    temp = np.zeros(len(x))\n",
    "    y = np.matmul(B,x)\n",
    "    for i in range(0,len(x)):\n",
    "        temp[i] = min(x[i]-g[i], y[i]-b[i])\n",
    "    return temp"
   ]
  },
  {
   "cell_type": "code",
   "execution_count": 74,
   "metadata": {},
   "outputs": [],
   "source": [
    "def derivative(x,B,b,g):\n",
    "    \n",
    "    derivative = np.zeros((M+2,M+2))\n",
    "    y = np.matmul(B,x)\n",
    "    \n",
    "    for j in range(M+2):\n",
    "        \n",
    "        for i in range(M+2):\n",
    "            if y[i]-b[i]<=x[i]-g[i]:\n",
    "                derivative[j][i] = B[j][i]\n",
    "                \n",
    "            elif i == j:\n",
    "                derivative[j][i] = 1\n",
    "                \n",
    "            else:\n",
    "                derivative[j][i] = 0\n",
    "                \n",
    "    return derivative"
   ]
  },
  {
   "cell_type": "code",
   "execution_count": 75,
   "metadata": {},
   "outputs": [],
   "source": [
    "Price = np.zeros((M+2,N+1))\n",
    "\n",
    "for i in range(0, M+2):\n",
    "    Price[i][0] = g[i]"
   ]
  },
  {
   "cell_type": "code",
   "execution_count": 76,
   "metadata": {},
   "outputs": [],
   "source": [
    "K1 = 1000\n",
    "epsilon = 0.00001\n",
    "\n",
    "for i in range(0, N):\n",
    "    \n",
    "    b = Price[:,i]\n",
    "    xx = np.zeros(M+2)\n",
    "    \n",
    "    for k in range(0,K1): \n",
    "        \n",
    "        fx = func(xx,B,b,g)\n",
    "        fxder = derivative(xx,B,b,g)\n",
    "        xx = xx - np.dot(np.linalg.inv(fxder), fx)\n",
    "        \n",
    "        if max(np.abs(np.dot(np.linalg.inv(fxder), fx)))< epsilon: \n",
    "            break\n",
    "            \n",
    "    Price[:,i+1] = xx"
   ]
  },
  {
   "cell_type": "code",
   "execution_count": 77,
   "metadata": {},
   "outputs": [
    {
     "data": {
      "image/png": "[encoded data removed]",
      "text/plain": [
       "<Figure size 900x400 with 1 Axes>"
      ]
     },
     "metadata": {},
     "output_type": "display_data"
    }
   ],
   "source": [
    "plt.title(\"Stability using Newton Rhapson Method\")\n",
    "plt.plot(xj, Price[:,N])\n",
    "plt.show()"
   ]
  },
  {
   "cell_type": "code",
   "execution_count": null,
   "metadata": {
    "collapsed": true
   },
   "outputs": [],
   "source": []
  }
 ],
 "metadata": {
  "kernelspec": {
   "display_name": "Python 3",
   "language": "python",
   "name": "python3"
  },
  "language_info": {
   "codemirror_mode": {
    "name": "ipython",
    "version": 3
   },
   "file_extension": ".py",
   "mimetype": "text/x-python",
   "name": "python",
   "nbconvert_exporter": "python",
   "pygments_lexer": "ipython3",
   "version": "3.6.5"
  }
 },
 "nbformat": 4,
 "nbformat_minor": 2
}
